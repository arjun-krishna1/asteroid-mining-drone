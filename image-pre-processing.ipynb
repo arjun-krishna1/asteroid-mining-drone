{
 "cells": [
  {
   "cell_type": "code",
   "execution_count": 113,
   "id": "4560da54",
   "metadata": {},
   "outputs": [],
   "source": [
    "import numpy as np\n",
    "import cv2 as cv"
   ]
  },
  {
   "cell_type": "code",
   "execution_count": 185,
   "id": "ee4b5c9f",
   "metadata": {},
   "outputs": [
    {
     "name": "stdout",
     "output_type": "stream",
     "text": [
      "4.2.0\n"
     ]
    }
   ],
   "source": [
    "print(cv.__version__)"
   ]
  },
  {
   "cell_type": "code",
   "execution_count": 186,
   "id": "be0ab45c",
   "metadata": {},
   "outputs": [],
   "source": [
    "img = cv.imread('data/frame100-(41.8, 62.7, 25.9).png')\n",
    "img2 = cv.imread('data/frame15-(7.0, 7.0, 0.4).png')"
   ]
  },
  {
   "cell_type": "code",
   "execution_count": 188,
   "id": "13c67624",
   "metadata": {},
   "outputs": [],
   "source": [
    "def show_img_list(img_list):\n",
    "    for i in range(len(img_list)):\n",
    "        cv.imshow(str(i), img_list[i])\n",
    "    cv.waitKey(0)\n",
    "    cv.destroyAllWindows()"
   ]
  },
  {
   "cell_type": "code",
   "execution_count": 190,
   "id": "3ac17afa",
   "metadata": {},
   "outputs": [],
   "source": [
    "def apply_filter(img):\n",
    "    lower = np.array([110,50, 50])\n",
    "    upper = np.array([130,255,255])\n",
    "    hsv = cv.cvtColor(img, cv.COLOR_BGR2HSV)\n",
    "    mask = cv.inRange(hsv, lower, upper)\n",
    "    return cv.bitwise_and(img, img, mask= mask)"
   ]
  },
  {
   "cell_type": "code",
   "execution_count": 195,
   "id": "1ecd7f95",
   "metadata": {},
   "outputs": [],
   "source": [
    "show_img_list([apply_filter(img), apply_filter(img2)])"
   ]
  },
  {
   "cell_type": "code",
   "execution_count": null,
   "id": "bb027efc",
   "metadata": {},
   "outputs": [],
   "source": [
    "cv.inrange()"
   ]
  },
  {
   "cell_type": "code",
   "execution_count": 170,
   "id": "948e3522",
   "metadata": {},
   "outputs": [],
   "source": [
    "show_img_list([apply_filter(img2)])"
   ]
  },
  {
   "cell_type": "code",
   "execution_count": 63,
   "id": "9ce9964a",
   "metadata": {},
   "outputs": [],
   "source": [
    "img = cv.medianBlur(img, 5)\n",
    "cimg = cv.cvtColor(img, cv.COLOR_GRAY2BGR)"
   ]
  },
  {
   "cell_type": "code",
   "execution_count": 64,
   "id": "2189adce",
   "metadata": {},
   "outputs": [],
   "source": [
    "circles = cv.HoughCircles(img,cv.HOUGH_GRADIENT,1,20,\n",
    "                            param1=50,param2=30,minRadius=0,maxRadius=0)"
   ]
  },
  {
   "cell_type": "code",
   "execution_count": 65,
   "id": "1cdb403d",
   "metadata": {},
   "outputs": [],
   "source": [
    "circles = np.uint16(np.around(circles))\n",
    "for i in circles[0,:]:\n",
    "    # draw the outer circle\n",
    "    cv.circle(cimg,(i[0],i[1]),i[2],(0,255,0),2)\n",
    "    # draw the center of the circle"
   ]
  },
  {
   "cell_type": "code",
   "execution_count": 97,
   "id": "6c3e27bc",
   "metadata": {},
   "outputs": [
    {
     "ename": "KeyboardInterrupt",
     "evalue": "",
     "output_type": "error",
     "traceback": [
      "\u001b[0;31m---------------------------------------------------------------------------\u001b[0m",
      "\u001b[0;31mKeyboardInterrupt\u001b[0m                         Traceback (most recent call last)",
      "\u001b[0;32m<ipython-input-97-e44162a738b5>\u001b[0m in \u001b[0;36m<module>\u001b[0;34m\u001b[0m\n\u001b[0;32m----> 1\u001b[0;31m \u001b[0mshow_img_list\u001b[0m\u001b[0;34m(\u001b[0m\u001b[0;34m[\u001b[0m\u001b[0mcimg\u001b[0m\u001b[0;34m,\u001b[0m \u001b[0mimg\u001b[0m\u001b[0;34m]\u001b[0m\u001b[0;34m)\u001b[0m\u001b[0;34m\u001b[0m\u001b[0;34m\u001b[0m\u001b[0m\n\u001b[0m",
      "\u001b[0;32m<ipython-input-62-1af653533408>\u001b[0m in \u001b[0;36mshow_img_list\u001b[0;34m(img_list)\u001b[0m\n\u001b[1;32m      2\u001b[0m     \u001b[0;32mfor\u001b[0m \u001b[0mi\u001b[0m \u001b[0;32min\u001b[0m \u001b[0mrange\u001b[0m\u001b[0;34m(\u001b[0m\u001b[0mlen\u001b[0m\u001b[0;34m(\u001b[0m\u001b[0mimg_list\u001b[0m\u001b[0;34m)\u001b[0m\u001b[0;34m)\u001b[0m\u001b[0;34m:\u001b[0m\u001b[0;34m\u001b[0m\u001b[0;34m\u001b[0m\u001b[0m\n\u001b[1;32m      3\u001b[0m         \u001b[0mcv\u001b[0m\u001b[0;34m.\u001b[0m\u001b[0mimshow\u001b[0m\u001b[0;34m(\u001b[0m\u001b[0mstr\u001b[0m\u001b[0;34m(\u001b[0m\u001b[0mi\u001b[0m\u001b[0;34m)\u001b[0m\u001b[0;34m,\u001b[0m \u001b[0mimg_list\u001b[0m\u001b[0;34m[\u001b[0m\u001b[0mi\u001b[0m\u001b[0;34m]\u001b[0m\u001b[0;34m)\u001b[0m\u001b[0;34m\u001b[0m\u001b[0;34m\u001b[0m\u001b[0m\n\u001b[0;32m----> 4\u001b[0;31m     \u001b[0mcv\u001b[0m\u001b[0;34m.\u001b[0m\u001b[0mwaitKey\u001b[0m\u001b[0;34m(\u001b[0m\u001b[0;36m0\u001b[0m\u001b[0;34m)\u001b[0m\u001b[0;34m\u001b[0m\u001b[0;34m\u001b[0m\u001b[0m\n\u001b[0m\u001b[1;32m      5\u001b[0m     \u001b[0mcv\u001b[0m\u001b[0;34m.\u001b[0m\u001b[0mdestroyAllWindows\u001b[0m\u001b[0;34m(\u001b[0m\u001b[0;34m)\u001b[0m\u001b[0;34m\u001b[0m\u001b[0;34m\u001b[0m\u001b[0m\n",
      "\u001b[0;31mKeyboardInterrupt\u001b[0m: "
     ]
    }
   ],
   "source": [
    "show_img_list([cimg, img])"
   ]
  },
  {
   "cell_type": "code",
   "execution_count": 68,
   "id": "e060b4dc",
   "metadata": {},
   "outputs": [
    {
     "name": "stdout",
     "output_type": "stream",
     "text": [
      "[[[414 506  56]\n",
      "  [214 360 166]\n",
      "  [414 426 142]\n",
      "  [388 446 111]\n",
      "  [220 416  82]\n",
      "  [418 528  13]]]\n"
     ]
    }
   ],
   "source": [
    "print(circles)"
   ]
  },
  {
   "cell_type": "code",
   "execution_count": 82,
   "id": "6aac3245",
   "metadata": {},
   "outputs": [
    {
     "name": "stdout",
     "output_type": "stream",
     "text": [
      "[[[  0 255 255]]]\n",
      "[[[120 255 255]]]\n"
     ]
    }
   ],
   "source": [
    "red = np.uint8([[[0,0,255 ]]])\n",
    "blue = np.uint8([[[255,0,0 ]]])\n",
    "print(cv.cvtColor(red,cv.COLOR_BGR2HSV))\n",
    "print(cv.cvtColor(blue,cv.COLOR_BGR2HSV))"
   ]
  },
  {
   "cell_type": "code",
   "execution_count": 87,
   "id": "de8483f6",
   "metadata": {},
   "outputs": [],
   "source": [
    "hsv_test = np.uint8([[[  1, 203, 201]]])\n",
    "show_img_list([red, blue, cv.cvtColor( hsv_test, cv.COLOR_HSV2BGR)])"
   ]
  },
  {
   "cell_type": "code",
   "execution_count": null,
   "id": "e8a60e5c",
   "metadata": {},
   "outputs": [],
   "source": []
  }
 ],
 "metadata": {
  "kernelspec": {
   "display_name": "Python 3",
   "language": "python",
   "name": "python3"
  },
  "language_info": {
   "codemirror_mode": {
    "name": "ipython",
    "version": 3
   },
   "file_extension": ".py",
   "mimetype": "text/x-python",
   "name": "python",
   "nbconvert_exporter": "python",
   "pygments_lexer": "ipython3",
   "version": "3.8.5"
  }
 },
 "nbformat": 4,
 "nbformat_minor": 5
}
