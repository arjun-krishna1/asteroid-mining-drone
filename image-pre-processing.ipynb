{
 "cells": [
  {
   "cell_type": "code",
   "execution_count": 2,
   "id": "4560da54",
   "metadata": {},
   "outputs": [],
   "source": [
    "import numpy as np\n",
    "import cv2 as cv"
   ]
  },
  {
   "cell_type": "code",
   "execution_count": 3,
   "id": "be0ab45c",
   "metadata": {},
   "outputs": [],
   "source": [
    "img_red = cv.imread('data/frame100-(41.8, 62.7, 25.9).png')\n",
    "img_blue = cv.imread('data/frame200-(26.8, 150.2, 82.7).png')"
   ]
  },
  {
   "cell_type": "code",
   "execution_count": 4,
   "id": "13c67624",
   "metadata": {},
   "outputs": [],
   "source": [
    "def show_img_list(img_list):\n",
    "    for i in range(len(img_list)):\n",
    "        cv.imshow(str(i), img_list[i])\n",
    "    cv.waitKey(0)\n",
    "    cv.destroyAllWindows()"
   ]
  },
  {
   "cell_type": "code",
   "execution_count": 5,
   "id": "760ac5b4",
   "metadata": {},
   "outputs": [],
   "source": [
    "def apply_filter(img):\n",
    "    lower = np.array([0,50, 50])\n",
    "    upper = np.array([130,255,255])\n",
    "    hsv = cv.cvtColor(img, cv.COLOR_BGR2HSV)\n",
    "    mask = cv.inRange(hsv, lower, upper)\n",
    "    return cv.bitwise_and(img, img, mask= mask)"
   ]
  },
  {
   "cell_type": "code",
   "execution_count": 6,
   "id": "2d9b5459",
   "metadata": {},
   "outputs": [],
   "source": [
    "def get_circles(img):\n",
    "    print()\n",
    "    gray = cv.cvtColor(img,cv.COLOR_BGR2GRAY)\n",
    "    gray = cv.medianBlur(img,5)\n",
    "    circles = cv.HoughCircles(gray,cv.HOUGH_GRADIENT,1,20,\n",
    "                            param1=50,param2=30,minRadius=0,maxRadius=0)\n",
    "    return np.uint16(np.around(circles))"
   ]
  },
  {
   "cell_type": "code",
   "execution_count": 49,
   "id": "b13f9e05",
   "metadata": {},
   "outputs": [],
   "source": [
    "show_img_list([img_red_filter])"
   ]
  },
  {
   "cell_type": "code",
   "execution_count": 8,
   "id": "de771c1b",
   "metadata": {},
   "outputs": [],
   "source": [
    "img_red_filter = apply_filter(img_red)"
   ]
  },
  {
   "cell_type": "code",
   "execution_count": 11,
   "id": "8426233d",
   "metadata": {},
   "outputs": [],
   "source": [
    "img_red_fin = img_red_filter[np.any(img_red_filter != 0, axis=2)]"
   ]
  },
  {
   "cell_type": "code",
   "execution_count": 13,
   "id": "7964488f",
   "metadata": {},
   "outputs": [
    {
     "data": {
      "text/plain": [
       "(42498, 3)"
      ]
     },
     "execution_count": 13,
     "metadata": {},
     "output_type": "execute_result"
    }
   ],
   "source": [
    "img_red_fin.shape"
   ]
  },
  {
   "cell_type": "code",
   "execution_count": 14,
   "id": "7f39f116",
   "metadata": {},
   "outputs": [
    {
     "data": {
      "text/plain": [
       "(901, 1848, 3)"
      ]
     },
     "execution_count": 14,
     "metadata": {},
     "output_type": "execute_result"
    }
   ],
   "source": [
    "img_red_filter.shape"
   ]
  },
  {
   "cell_type": "code",
   "execution_count": 51,
   "id": "63ab338f",
   "metadata": {},
   "outputs": [],
   "source": [
    "img_red_gray = cv.cvtColor(img_red_filter, cv.COLOR_BGR2GRAY)\n",
    "show_img_list([img_red_gray])\n",
    "non_zero_idx = np.nonzero(img_red_gray > 10)"
   ]
  },
  {
   "cell_type": "code",
   "execution_count": 63,
   "id": "58d8454c",
   "metadata": {},
   "outputs": [],
   "source": [
    "import pandas as pd"
   ]
  },
  {
   "cell_type": "code",
   "execution_count": 64,
   "id": "6311bc2d",
   "metadata": {},
   "outputs": [],
   "source": [
    "df = pd.DataFrame(non_zero_idx)"
   ]
  },
  {
   "cell_type": "code",
   "execution_count": 65,
   "id": "bb64ce84",
   "metadata": {},
   "outputs": [
    {
     "data": {
      "text/html": [
       "<div>\n",
       "<style scoped>\n",
       "    .dataframe tbody tr th:only-of-type {\n",
       "        vertical-align: middle;\n",
       "    }\n",
       "\n",
       "    .dataframe tbody tr th {\n",
       "        vertical-align: top;\n",
       "    }\n",
       "\n",
       "    .dataframe thead th {\n",
       "        text-align: right;\n",
       "    }\n",
       "</style>\n",
       "<table border=\"1\" class=\"dataframe\">\n",
       "  <thead>\n",
       "    <tr style=\"text-align: right;\">\n",
       "      <th></th>\n",
       "      <th>0</th>\n",
       "      <th>1</th>\n",
       "      <th>2</th>\n",
       "      <th>3</th>\n",
       "      <th>4</th>\n",
       "      <th>5</th>\n",
       "      <th>6</th>\n",
       "      <th>7</th>\n",
       "      <th>8</th>\n",
       "      <th>9</th>\n",
       "      <th>...</th>\n",
       "      <th>430</th>\n",
       "      <th>431</th>\n",
       "      <th>432</th>\n",
       "      <th>433</th>\n",
       "      <th>434</th>\n",
       "      <th>435</th>\n",
       "      <th>436</th>\n",
       "      <th>437</th>\n",
       "      <th>438</th>\n",
       "      <th>439</th>\n",
       "    </tr>\n",
       "  </thead>\n",
       "  <tbody>\n",
       "    <tr>\n",
       "      <th>0</th>\n",
       "      <td>384</td>\n",
       "      <td>385</td>\n",
       "      <td>386</td>\n",
       "      <td>387</td>\n",
       "      <td>388</td>\n",
       "      <td>389</td>\n",
       "      <td>390</td>\n",
       "      <td>391</td>\n",
       "      <td>392</td>\n",
       "      <td>393</td>\n",
       "      <td>...</td>\n",
       "      <td>NaN</td>\n",
       "      <td>NaN</td>\n",
       "      <td>NaN</td>\n",
       "      <td>NaN</td>\n",
       "      <td>NaN</td>\n",
       "      <td>NaN</td>\n",
       "      <td>NaN</td>\n",
       "      <td>NaN</td>\n",
       "      <td>NaN</td>\n",
       "      <td>NaN</td>\n",
       "    </tr>\n",
       "    <tr>\n",
       "      <th>1</th>\n",
       "      <td>292</td>\n",
       "      <td>293</td>\n",
       "      <td>294</td>\n",
       "      <td>295</td>\n",
       "      <td>296</td>\n",
       "      <td>297</td>\n",
       "      <td>298</td>\n",
       "      <td>299</td>\n",
       "      <td>300</td>\n",
       "      <td>301</td>\n",
       "      <td>...</td>\n",
       "      <td>1439.0</td>\n",
       "      <td>1440.0</td>\n",
       "      <td>1441.0</td>\n",
       "      <td>1442.0</td>\n",
       "      <td>1443.0</td>\n",
       "      <td>1444.0</td>\n",
       "      <td>1445.0</td>\n",
       "      <td>1446.0</td>\n",
       "      <td>1447.0</td>\n",
       "      <td>1448.0</td>\n",
       "    </tr>\n",
       "  </tbody>\n",
       "</table>\n",
       "<p>2 rows × 440 columns</p>\n",
       "</div>"
      ],
      "text/plain": [
       "   0    1    2    3    4    5    6    7    8    9    ...     430     431  \\\n",
       "0  384  385  386  387  388  389  390  391  392  393  ...     NaN     NaN   \n",
       "1  292  293  294  295  296  297  298  299  300  301  ...  1439.0  1440.0   \n",
       "\n",
       "      432     433     434     435     436     437     438     439  \n",
       "0     NaN     NaN     NaN     NaN     NaN     NaN     NaN     NaN  \n",
       "1  1441.0  1442.0  1443.0  1444.0  1445.0  1446.0  1447.0  1448.0  \n",
       "\n",
       "[2 rows x 440 columns]"
      ]
     },
     "execution_count": 65,
     "metadata": {},
     "output_type": "execute_result"
    }
   ],
   "source": [
    "df.head()"
   ]
  },
  {
   "cell_type": "code",
   "execution_count": 40,
   "id": "8b1910e5",
   "metadata": {},
   "outputs": [
    {
     "name": "stdout",
     "output_type": "stream",
     "text": [
      "384\n",
      "713\n"
     ]
    }
   ],
   "source": [
    "# unq_rows = np.unique(non_zero_idx[0]) \n",
    "# if unq_rows[-1] <= (unq_rows[0] + len(unq_rows))*1.1:\n",
    "#     print (unq_rows[0], unq_rows[-1])\n",
    "\n",
    "# else:\n",
    "i = 0\n",
    "while i < len(unq_rows):\n",
    "    print(unq_rows[i])\n",
    "    while i + 1< len(unq_rows) and unq_rows[i+1] < unq_rows[i] + 10:\n",
    "        i += 1\n",
    "    i += 1\n",
    "    print(unq_rows[i - 1])\n",
    "            "
   ]
  },
  {
   "cell_type": "code",
   "execution_count": null,
   "id": "1ebc8bb1",
   "metadata": {},
   "outputs": [],
   "source": []
  }
 ],
 "metadata": {
  "kernelspec": {
   "display_name": "Python 3",
   "language": "python",
   "name": "python3"
  },
  "language_info": {
   "codemirror_mode": {
    "name": "ipython",
    "version": 3
   },
   "file_extension": ".py",
   "mimetype": "text/x-python",
   "name": "python",
   "nbconvert_exporter": "python",
   "pygments_lexer": "ipython3",
   "version": "3.8.5"
  }
 },
 "nbformat": 4,
 "nbformat_minor": 5
}
