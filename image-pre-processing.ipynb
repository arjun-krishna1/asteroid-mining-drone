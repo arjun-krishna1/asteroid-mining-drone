{
 "cells": [
  {
   "cell_type": "code",
   "execution_count": 8,
   "id": "4560da54",
   "metadata": {},
   "outputs": [],
   "source": [
    "import cv2 as cv"
   ]
  },
  {
   "cell_type": "code",
   "execution_count": 9,
   "id": "ee4b5c9f",
   "metadata": {},
   "outputs": [
    {
     "name": "stdout",
     "output_type": "stream",
     "text": [
      "4.2.0\n"
     ]
    }
   ],
   "source": [
    "print(cv.__version__)"
   ]
  },
  {
   "cell_type": "code",
   "execution_count": 10,
   "id": "be0ab45c",
   "metadata": {},
   "outputs": [],
   "source": [
    "img = cv.imread('data/frame100-(41.8, 62.7, 25.9).png')"
   ]
  },
  {
   "cell_type": "code",
   "execution_count": 12,
   "id": "c15b3eff",
   "metadata": {},
   "outputs": [],
   "source": [
    "cv.imshow('example', img)\n",
    "cv.waitKey(0)\n",
    "cv.destroyAllWindows()"
   ]
  },
  {
   "cell_type": "code",
   "execution_count": null,
   "id": "77885dd5",
   "metadata": {},
   "outputs": [],
   "source": []
  }
 ],
 "metadata": {
  "kernelspec": {
   "display_name": "Python 3",
   "language": "python",
   "name": "python3"
  },
  "language_info": {
   "codemirror_mode": {
    "name": "ipython",
    "version": 3
   },
   "file_extension": ".py",
   "mimetype": "text/x-python",
   "name": "python",
   "nbconvert_exporter": "python",
   "pygments_lexer": "ipython3",
   "version": "3.8.5"
  }
 },
 "nbformat": 4,
 "nbformat_minor": 5
}
